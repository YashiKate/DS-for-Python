{
 "cells": [
  {
   "cell_type": "markdown",
   "metadata": {},
   "source": [
    "This is an practice of using 'concurrent.futures' for parallel process in Python."
   ]
  },
  {
   "cell_type": "code",
   "execution_count": null,
   "metadata": {
    "collapsed": true
   },
   "outputs": [],
   "source": []
  },
  {
   "cell_type": "code",
   "execution_count": null,
   "metadata": {
    "collapsed": true
   },
   "outputs": [],
   "source": [
    "import glob\n",
    "import os\n",
    "from PIL import Image\n",
    "\n",
    "def make_image_thumbnail(filename):\n",
    "    # thumbnail name as\"<original_filename>_thumbnail.jpg\"\n",
    "    base_filename, file_extension = os.path.splitext(filename)\n",
    "    thumbnail_filename = f\"{base_filename}_thumbnail{file_extension}\"\n",
    "\n",
    "    # create and save thumbnail\n",
    "    image = Image.open(filename)\n",
    "    image.thumbnail(size=(128, 128))\n",
    "    image.save(thumbnail_filename, \"JPEG\")\n",
    "\n",
    "    return thumbnail_filename\n",
    "\n",
    "# loop all .jpg and create a thumbnail for each of them\n",
    "for image_file in glob.glob(\"*.jpg\"):\n",
    "    thumbnail_file = make_image_thumbnail(image_file)\n",
    "\n",
    "print(f\"A thumbnail for {image_file} was saved as {thumbnail_file}\")"
   ]
  },
  {
   "cell_type": "markdown",
   "metadata": {},
   "source": [
    "An example of running the codes above for a folder containing 1000 JPEG images.\n",
    "\n",
    "$ time python3 thumbnails_1.py\n",
    "A thumbnail for 1430028941_4db9dedd10.jpg was saved as 1430028941_4db9dedd10_thumbnail.jpg\n",
    "[... about 1000 more lines of output ...]\n",
    "real 0m8.956s\n",
    "user 0m7.086s\n",
    "sys 0m0.743s"
   ]
  },
  {
   "cell_type": "markdown",
   "metadata": {},
   "source": [
    "It took almost 9 seconds to process 1000 jpg files. If we do parallel process, for exampke on a computer with 4 CPU, then processing time will take only one fourth of that."
   ]
  },
  {
   "cell_type": "code",
   "execution_count": null,
   "metadata": {
    "collapsed": true
   },
   "outputs": [],
   "source": [
    "# parallel process\n",
    "import glob\n",
    "import os\n",
    "from PIL import Image\n",
    "import concurrent.futures\n",
    "\n",
    "def make_image_thumbnail(filename):\n",
    "    # thumbnail name as\"<original_filename>_thumbnail.jpg\"\n",
    "    base_filename, file_extension = os.path.splitext(filename)\n",
    "    thumbnail_filename = f\"{base_filename}_thumbnail{file_extension}\"\n",
    "\n",
    "    # create and save thumbnail\n",
    "    image = Image.open(filename)\n",
    "    image.thumbnail(size=(128, 128))\n",
    "    image.save(thumbnail_filename, \"JPEG\")\n",
    "\n",
    "    return thumbnail_filename\n",
    "\n",
    "# create Process Pool，by default one for each CPU\n",
    "with concurrent.futures.ProcessPoolExecutor() as executor:\n",
    "    # access .jpg list\n",
    "    image_files = glob.glob(\"*.jpg\")\n",
    "\n",
    "    # process image list, and split process by Process Pool, using all CPU\n",
    "    for image_file, thumbnail_file in zip(image_files, executor.map(make_image_thumbnail, image_files)):\n",
    "        print(f\"A thumbnail for {image_file} was saved as {thumbnail_file}\")"
   ]
  },
  {
   "cell_type": "code",
   "execution_count": null,
   "metadata": {
    "collapsed": true
   },
   "outputs": [],
   "source": [
    "Running above codes on the same folder. \n",
    "\n",
    "$ time python3 thumbnails_2.py\n",
    "A thumbnail for 1430028941_4db9dedd10.jpg was saved as 1430028941_4db9dedd10_thumbnail.jpg\n",
    "[... about 1000 more lines of output ...]\n",
    "real 0m2.274s\n",
    "user 0m8.959s\n",
    "sys 0m0.951s"
   ]
  }
 ],
 "metadata": {
  "kernelspec": {
   "display_name": "Python 3",
   "language": "python",
   "name": "python3"
  },
  "language_info": {
   "codemirror_mode": {
    "name": "ipython",
    "version": 3
   },
   "file_extension": ".py",
   "mimetype": "text/x-python",
   "name": "python",
   "nbconvert_exporter": "python",
   "pygments_lexer": "ipython3",
   "version": "3.6.3"
  }
 },
 "nbformat": 4,
 "nbformat_minor": 2
}
